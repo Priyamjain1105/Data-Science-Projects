{
 "cells": [
  {
   "cell_type": "markdown",
   "id": "425f18ac",
   "metadata": {},
   "source": [
    "## Exploratory Data Analysis on the dataset"
   ]
  },
  {
   "cell_type": "code",
   "execution_count": 2,
   "id": "6f29488f",
   "metadata": {},
   "outputs": [],
   "source": [
    "# importing the necessary libraries\n",
    "import pandas as pd\n",
    "import numpy as np\n",
    "import matplotlib.pyplot as plt\n"
   ]
  },
  {
   "cell_type": "code",
   "execution_count": 3,
   "id": "3372d63a",
   "metadata": {},
   "outputs": [],
   "source": [
    "# importing the dataset\n",
    "df = pd.read_csv('Projects/teen_phone_addiction/teen_phone_addiction_dataset.csv')"
   ]
  },
  {
   "cell_type": "markdown",
   "id": "1383acbf",
   "metadata": {},
   "source": [
    "#### Info & Description About the data"
   ]
  },
  {
   "cell_type": "code",
   "execution_count": 4,
   "id": "4bcae795",
   "metadata": {},
   "outputs": [
    {
     "name": "stdout",
     "output_type": "stream",
     "text": [
      "<class 'pandas.core.frame.DataFrame'>\n",
      "RangeIndex: 3000 entries, 0 to 2999\n",
      "Data columns (total 25 columns):\n",
      " #   Column                  Non-Null Count  Dtype  \n",
      "---  ------                  --------------  -----  \n",
      " 0   ID                      3000 non-null   int64  \n",
      " 1   Name                    3000 non-null   object \n",
      " 2   Age                     3000 non-null   int64  \n",
      " 3   Gender                  3000 non-null   object \n",
      " 4   Location                3000 non-null   object \n",
      " 5   School_Grade            3000 non-null   object \n",
      " 6   Daily_Usage_Hours       3000 non-null   float64\n",
      " 7   Sleep_Hours             3000 non-null   float64\n",
      " 8   Academic_Performance    3000 non-null   int64  \n",
      " 9   Social_Interactions     3000 non-null   int64  \n",
      " 10  Exercise_Hours          3000 non-null   float64\n",
      " 11  Anxiety_Level           3000 non-null   int64  \n",
      " 12  Depression_Level        3000 non-null   int64  \n",
      " 13  Self_Esteem             3000 non-null   int64  \n",
      " 14  Parental_Control        3000 non-null   int64  \n",
      " 15  Screen_Time_Before_Bed  3000 non-null   float64\n",
      " 16  Phone_Checks_Per_Day    3000 non-null   int64  \n",
      " 17  Apps_Used_Daily         3000 non-null   int64  \n",
      " 18  Time_on_Social_Media    3000 non-null   float64\n",
      " 19  Time_on_Gaming          3000 non-null   float64\n",
      " 20  Time_on_Education       3000 non-null   float64\n",
      " 21  Phone_Usage_Purpose     3000 non-null   object \n",
      " 22  Family_Communication    3000 non-null   int64  \n",
      " 23  Weekend_Usage_Hours     3000 non-null   float64\n",
      " 24  Addiction_Level         3000 non-null   float64\n",
      "dtypes: float64(9), int64(11), object(5)\n",
      "memory usage: 586.1+ KB\n",
      "None\n"
     ]
    }
   ],
   "source": [
    "# Info about the data\n",
    "print(df.info())"
   ]
  },
  {
   "cell_type": "code",
   "execution_count": 15,
   "id": "5aa49750",
   "metadata": {},
   "outputs": [
    {
     "name": "stdout",
     "output_type": "stream",
     "text": [
      "                ID          Age  Daily_Usage_Hours  Sleep_Hours  \\\n",
      "count  3000.000000  3000.000000        3000.000000  3000.000000   \n",
      "mean   1500.500000    15.969667           5.020667     6.489767   \n",
      "std     866.169729     1.989489           1.956501     1.490713   \n",
      "min       1.000000    13.000000           0.000000     3.000000   \n",
      "25%     750.750000    14.000000           3.700000     5.500000   \n",
      "50%    1500.500000    16.000000           5.000000     6.500000   \n",
      "75%    2250.250000    18.000000           6.400000     7.500000   \n",
      "max    3000.000000    19.000000          11.500000    10.000000   \n",
      "\n",
      "       Academic_Performance  Social_Interactions  Exercise_Hours  \\\n",
      "count           3000.000000          3000.000000     3000.000000   \n",
      "mean              74.947333             5.097667        1.040667   \n",
      "std               14.684156             3.139333        0.734620   \n",
      "min               50.000000             0.000000        0.000000   \n",
      "25%               62.000000             2.000000        0.500000   \n",
      "50%               75.000000             5.000000        1.000000   \n",
      "75%               88.000000             8.000000        1.500000   \n",
      "max              100.000000            10.000000        4.000000   \n",
      "\n",
      "       Anxiety_Level  Depression_Level  Self_Esteem  Parental_Control  \\\n",
      "count    3000.000000       3000.000000  3000.000000       3000.000000   \n",
      "mean        5.590000          5.460333     5.546333          0.507333   \n",
      "std         2.890678          2.871557     2.860754          0.500030   \n",
      "min         1.000000          1.000000     1.000000          0.000000   \n",
      "25%         3.000000          3.000000     3.000000          0.000000   \n",
      "50%         6.000000          5.000000     6.000000          1.000000   \n",
      "75%         8.000000          8.000000     8.000000          1.000000   \n",
      "max        10.000000         10.000000    10.000000          1.000000   \n",
      "\n",
      "       Screen_Time_Before_Bed  Phone_Checks_Per_Day  Apps_Used_Daily  \\\n",
      "count             3000.000000           3000.000000      3000.000000   \n",
      "mean                 1.006733             83.093000        12.609333   \n",
      "std                  0.492878             37.747044         4.611486   \n",
      "min                  0.000000             20.000000         5.000000   \n",
      "25%                  0.700000             51.000000         9.000000   \n",
      "50%                  1.000000             82.000000        13.000000   \n",
      "75%                  1.400000            115.250000        17.000000   \n",
      "max                  2.600000            150.000000        20.000000   \n",
      "\n",
      "       Time_on_Social_Media  Time_on_Gaming  Time_on_Education  \\\n",
      "count           3000.000000     3000.000000        3000.000000   \n",
      "mean               2.499233        1.525267           1.016333   \n",
      "std                0.988201        0.932701           0.648341   \n",
      "min                0.000000        0.000000           0.000000   \n",
      "25%                1.800000        0.800000           0.500000   \n",
      "50%                2.500000        1.500000           1.000000   \n",
      "75%                3.200000        2.200000           1.500000   \n",
      "max                5.000000        4.000000           3.000000   \n",
      "\n",
      "       Family_Communication  Weekend_Usage_Hours  Addiction_Level  \n",
      "count           3000.000000          3000.000000      3000.000000  \n",
      "mean               5.459667             6.015100         8.881900  \n",
      "std                2.864572             2.014776         1.609598  \n",
      "min                1.000000             0.000000         1.000000  \n",
      "25%                3.000000             4.700000         8.000000  \n",
      "50%                5.000000             6.000000        10.000000  \n",
      "75%                8.000000             7.400000        10.000000  \n",
      "max               10.000000            14.000000        10.000000  \n"
     ]
    }
   ],
   "source": [
    "print(df.describe())"
   ]
  },
  {
   "cell_type": "code",
   "execution_count": 6,
   "id": "e80f883a",
   "metadata": {},
   "outputs": [
    {
     "name": "stdout",
     "output_type": "stream",
     "text": [
      "   ID               Name  Age  Gender          Location School_Grade  \\\n",
      "0   1    Shannon Francis   13  Female        Hansonfort          9th   \n",
      "1   2    Scott Rodriguez   17  Female      Theodorefort          7th   \n",
      "2   3        Adrian Knox   13   Other       Lindseystad         11th   \n",
      "3   4  Brittany Hamilton   18  Female      West Anthony         12th   \n",
      "4   5       Steven Smith   14   Other  Port Lindsaystad          9th   \n",
      "\n",
      "   Daily_Usage_Hours  Sleep_Hours  Academic_Performance  Social_Interactions  \\\n",
      "0                4.0          6.1                    78                    5   \n",
      "1                5.5          6.5                    70                    5   \n",
      "2                5.8          5.5                    93                    8   \n",
      "3                3.1          3.9                    78                    8   \n",
      "4                2.5          6.7                    56                    4   \n",
      "\n",
      "   ...  Screen_Time_Before_Bed  Phone_Checks_Per_Day  Apps_Used_Daily  \\\n",
      "0  ...                     1.4                    86               19   \n",
      "1  ...                     0.9                    96                9   \n",
      "2  ...                     0.5                   137                8   \n",
      "3  ...                     1.4                   128                7   \n",
      "4  ...                     1.0                    96               20   \n",
      "\n",
      "   Time_on_Social_Media  Time_on_Gaming  Time_on_Education  \\\n",
      "0                   3.6             1.7                1.2   \n",
      "1                   1.1             4.0                1.8   \n",
      "2                   0.3             1.5                0.4   \n",
      "3                   3.1             1.6                0.8   \n",
      "4                   2.6             0.9                1.1   \n",
      "\n",
      "   Phone_Usage_Purpose  Family_Communication  Weekend_Usage_Hours  \\\n",
      "0             Browsing                     4                  8.7   \n",
      "1             Browsing                     2                  5.3   \n",
      "2            Education                     6                  5.7   \n",
      "3         Social Media                     8                  3.0   \n",
      "4               Gaming                    10                  3.7   \n",
      "\n",
      "   Addiction_Level  \n",
      "0             10.0  \n",
      "1             10.0  \n",
      "2              9.2  \n",
      "3              9.8  \n",
      "4              8.6  \n",
      "\n",
      "[5 rows x 25 columns]\n"
     ]
    }
   ],
   "source": [
    "print(df.head())"
   ]
  },
  {
   "cell_type": "markdown",
   "id": "43b5932f",
   "metadata": {},
   "source": [
    "---"
   ]
  },
  {
   "cell_type": "markdown",
   "id": "6b2e6170",
   "metadata": {},
   "source": [
    "<H2  style = \"color:royalblue\">Understanding Features</H2>"
   ]
  },
  {
   "cell_type": "markdown",
   "id": "21b126a7",
   "metadata": {},
   "source": [
    "<H3 \">Feature Selection based on its datatype</H3>"
   ]
  },
  {
   "cell_type": "markdown",
   "id": "3aabd105",
   "metadata": {},
   "source": [
    "#### **Categorical Features**"
   ]
  },
  {
   "cell_type": "code",
   "execution_count": 7,
   "id": "e851438a",
   "metadata": {},
   "outputs": [
    {
     "name": "stdout",
     "output_type": "stream",
     "text": [
      "Categorical Features:\n",
      "\n",
      "Name\n",
      "Gender\n",
      "Location\n",
      "School_Grade\n",
      "Phone_Usage_Purpose\n"
     ]
    }
   ],
   "source": [
    "# Categorical features\n",
    "categorical_features = df.select_dtypes(include=[\"object\"]).columns\n",
    "print(\"Categorical Features:\\n\")\n",
    "for i in categorical_features.to_list():\n",
    "    print(i)"
   ]
  },
  {
   "cell_type": "markdown",
   "id": "ad5f125f",
   "metadata": {
    "notebookRunGroups": {
     "groupValue": "1"
    }
   },
   "source": [
    "####  **Numerical Features**"
   ]
  },
  {
   "cell_type": "code",
   "execution_count": 8,
   "id": "a90c37ca",
   "metadata": {},
   "outputs": [
    {
     "name": "stdout",
     "output_type": "stream",
     "text": [
      "Numerical Features:\n",
      "\n",
      "ID\n",
      "Age\n",
      "Academic_Performance\n",
      "Social_Interactions\n",
      "Anxiety_Level\n",
      "Depression_Level\n",
      "Self_Esteem\n",
      "Parental_Control\n",
      "Phone_Checks_Per_Day\n",
      "Apps_Used_Daily\n",
      "Family_Communication\n",
      "\n",
      "--------------------------------------\n",
      "\n",
      "Float Features:\n",
      "\n",
      "Daily_Usage_Hours\n",
      "Sleep_Hours\n",
      "Exercise_Hours\n",
      "Screen_Time_Before_Bed\n",
      "Time_on_Social_Media\n",
      "Time_on_Gaming\n",
      "Time_on_Education\n",
      "Weekend_Usage_Hours\n",
      "Addiction_Level\n"
     ]
    }
   ],
   "source": [
    "# Numerical features\n",
    "numerical_features = df.select_dtypes(include=[\"int64\"]).columns\n",
    "float_features = df.select_dtypes(include=[\"float64\"]).columns\n",
    "\n",
    "print(\"Numerical Features:\\n\")\n",
    "for i in numerical_features.to_list():\n",
    "    print(i)\n",
    "print(\"\\n--------------------------------------\\n\")\n",
    "print(\"Float Features:\\n\")\n",
    "for i in float_features.to_list():\n",
    "    print(i)"
   ]
  },
  {
   "cell_type": "markdown",
   "id": "de770325",
   "metadata": {},
   "source": [
    "#### **Identifiers**\n",
    "   - ID: entity id\n",
    "   - Name: entiry name\n",
    "  \n"
   ]
  },
  {
   "cell_type": "markdown",
   "id": "a1039a47",
   "metadata": {},
   "source": [
    "#### **Time Series Features**: N/A"
   ]
  },
  {
   "cell_type": "markdown",
   "id": "16a19bb1",
   "metadata": {},
   "source": [
    "#### **Text Features:** N/A"
   ]
  },
  {
   "cell_type": "markdown",
   "id": "20ecc07e",
   "metadata": {},
   "source": [
    "---"
   ]
  },
  {
   "cell_type": "markdown",
   "id": "ffd3d54f",
   "metadata": {},
   "source": [
    "### More Analysis on the Data"
   ]
  },
  {
   "cell_type": "markdown",
   "id": "d8057a48",
   "metadata": {},
   "source": [
    "1. Average Daily Usuage Hours by Gender"
   ]
  },
  {
   "cell_type": "code",
   "execution_count": 10,
   "id": "e3b3c30b",
   "metadata": {},
   "outputs": [
    {
     "name": "stdout",
     "output_type": "stream",
     "text": [
      "Gender\n",
      "Female    5.052532\n",
      "Male      5.054626\n",
      "Other     4.952508\n",
      "Name: Daily_Usage_Hours, dtype: float64\n"
     ]
    }
   ],
   "source": [
    "avg_st = df.groupby(\"Gender\")[\"Daily_Usage_Hours\"].mean()\n",
    "print(avg_st)"
   ]
  },
  {
   "cell_type": "markdown",
   "id": "433159d7",
   "metadata": {},
   "source": [
    "2. Avg Sleep Hours, Exercise Hours, Screen Time before bed, Time on Social media, time on gaming, time on education, weekend usuage hours and addiction level by gender\n",
    "   "
   ]
  },
  {
   "cell_type": "code",
   "execution_count": 14,
   "id": "56ee1d8c",
   "metadata": {},
   "outputs": [
    {
     "name": "stdout",
     "output_type": "stream",
     "text": [
      "        Sleep_Hours  Exercise_Hours  Screen_Time_Before_Bed  \\\n",
      "Gender                                                        \n",
      "Female     6.499206        1.027607                1.010328   \n",
      "Male       6.502854        1.050689                0.997244   \n",
      "Other      6.466428        1.043705                1.012897   \n",
      "\n",
      "        Time_on_Social_Media  Time_on_Gaming  Time_on_Education  \\\n",
      "Gender                                                            \n",
      "Female              2.507746        1.547964           1.050348   \n",
      "Male                2.496457        1.583268           1.036319   \n",
      "Other               2.493347        1.441556           0.960491   \n",
      "\n",
      "        Weekend_Usage_Hours  Addiction_Level  \n",
      "Gender                                        \n",
      "Female             6.071500         8.950645  \n",
      "Male               5.952461         8.867323  \n",
      "Other              6.022108         8.826203  \n"
     ]
    }
   ],
   "source": [
    "avg_info  = df.groupby(\"Gender\")[[\"Sleep_Hours\",\"Exercise_Hours\",\"Screen_Time_Before_Bed\",\"Time_on_Social_Media\",\"Time_on_Gaming\",\"Time_on_Education\",\"Weekend_Usage_Hours\",\"Addiction_Level\"]].mean()\n",
    "print(avg_info)"
   ]
  },
  {
   "cell_type": "markdown",
   "id": "3de214cd",
   "metadata": {},
   "source": [
    "3. Total highly addicted students in the dataset\n"
   ]
  },
  {
   "cell_type": "code",
   "execution_count": 19,
   "id": "8f8ddb2e",
   "metadata": {},
   "outputs": [
    {
     "name": "stdout",
     "output_type": "stream",
     "text": [
      "             max  count\n",
      "Gender Age             \n",
      "Female 13   10.0    146\n",
      "       14   10.0    130\n",
      "       15   10.0    146\n",
      "       16   10.0    178\n",
      "       17   10.0    142\n",
      "       18   10.0    129\n",
      "       19   10.0    136\n",
      "Male   13   10.0    140\n",
      "       14   10.0    147\n",
      "       15   10.0    140\n",
      "       16   10.0    152\n",
      "       17   10.0    134\n",
      "       18   10.0    143\n",
      "       19   10.0    160\n",
      "Other  13   10.0    147\n",
      "       14   10.0    150\n",
      "       15   10.0    145\n",
      "       16   10.0    137\n",
      "       17   10.0    136\n",
      "       18   10.0    137\n",
      "       19   10.0    125\n"
     ]
    }
   ],
   "source": [
    "high_addict_with_count = df.groupby(['Gender', 'Age'])['Addiction_Level'].agg(['max', 'count'])\n",
    "print(high_addict_with_count)"
   ]
  },
  {
   "cell_type": "markdown",
   "id": "8d4fcffa",
   "metadata": {},
   "source": [
    "\n"
   ]
  },
  {
   "cell_type": "markdown",
   "id": "924f76f8",
   "metadata": {},
   "source": [
    "---"
   ]
  },
  {
   "cell_type": "markdown",
   "id": "5598866e",
   "metadata": {},
   "source": [
    "<H3 style = \"color:brown\"> Features by Role in ML Model<H3>"
   ]
  },
  {
   "cell_type": "markdown",
   "id": "7a8d266e",
   "metadata": {},
   "source": [
    "#### [Hypothesis 1](/H1.ipynb): Students Performance based on their Screen time\n",
    "- **Target Variables (Dependent Variables)**\n",
    "  - *School Grade* :  Categorial\n",
    "  - *Academic performance* : numerical (int)\n",
    "  \n",
    "- **Feature Variables (or Indepencdent Variables)**\n",
    "  - Sleep_Hours\n",
    "  - Screen_Time_Before_Bed\n",
    "  - Time_on_Social_Media\n",
    "  - Time_on_Gaming\n",
    "  - Time_on_Education\n",
    "  - Weekend_Usuage_Hours\n",
    "\n",
    "[Link To Hypothesis 1](/H1.ipynb)\n"
   ]
  },
  {
   "cell_type": "markdown",
   "id": "62443837",
   "metadata": {},
   "source": []
  }
 ],
 "metadata": {
  "kernelspec": {
   "display_name": "Python 3 (ipykernel)",
   "language": "python",
   "name": "python3"
  },
  "language_info": {
   "codemirror_mode": {
    "name": "ipython",
    "version": 3
   },
   "file_extension": ".py",
   "mimetype": "text/x-python",
   "name": "python",
   "nbconvert_exporter": "python",
   "pygments_lexer": "ipython3",
   "version": "3.12.2"
  }
 },
 "nbformat": 4,
 "nbformat_minor": 5
}
